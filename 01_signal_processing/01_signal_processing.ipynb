{
  "nbformat": 4,
  "nbformat_minor": 0,
  "metadata": {
    "colab": {
      "name": "01_signal_processing.ipynb",
      "provenance": [],
      "authorship_tag": "ABX9TyOrAavroJqt4UHWwY5/tLYX",
      "include_colab_link": true
    },
    "kernelspec": {
      "name": "python3",
      "display_name": "Python 3"
    },
    "language_info": {
      "name": "python"
    }
  },
  "cells": [
    {
      "cell_type": "markdown",
      "metadata": {
        "id": "view-in-github",
        "colab_type": "text"
      },
      "source": [
        "<a href=\"https://colab.research.google.com/github/SanParraguez/me7200-signals/blob/main/01_signal_processing/01_signal_processing.ipynb\" target=\"_parent\"><img src=\"https://colab.research.google.com/assets/colab-badge.svg\" alt=\"Open In Colab\"/></a>"
      ]
    },
    {
      "cell_type": "markdown",
      "metadata": {
        "id": "cohT_5HvIJAF"
      },
      "source": [
        "ME7200 Procesamiento de Señales y Aprendizaje de Máquinas en Mantenimiento Predictivo\n",
        "\n",
        "---\n",
        "\n",
        "# Procesamiento de señales temporales\n",
        "\n",
        "---"
      ]
    },
    {
      "cell_type": "markdown",
      "metadata": {
        "id": "VyAy5o2-r8_L"
      },
      "source": [
        "## Cargar repositorio y librerías"
      ]
    },
    {
      "cell_type": "code",
      "metadata": {
        "id": "1tkhXHU6GvHa"
      },
      "source": [
        "!git clone https://github.com/SanParraguez/me7200-signals.git"
      ],
      "execution_count": null,
      "outputs": []
    },
    {
      "cell_type": "code",
      "metadata": {
        "id": "oRoVE2XLejBx"
      },
      "source": [
        "%cd /content/me7200-signals/\n",
        "!ls"
      ],
      "execution_count": null,
      "outputs": []
    },
    {
      "cell_type": "markdown",
      "metadata": {
        "id": "4Opa15MVV6Qt"
      },
      "source": [
        "Importar librerías necesarias"
      ]
    },
    {
      "cell_type": "code",
      "metadata": {
        "id": "Z_Qyy_x7dwEV"
      },
      "source": [
        "import numpy as np\n",
        "import scipy.io as sio\n",
        "import matplotlib.pyplot as plt\n",
        "\n",
        "from scipy.signal import hilbert\n",
        "from scipy.fftpack import fft, fftfreq"
      ],
      "execution_count": 3,
      "outputs": []
    },
    {
      "cell_type": "code",
      "metadata": {
        "id": "N0NYVksXpZnw"
      },
      "source": [
        "plt.rcParams['font.size'] = 14"
      ],
      "execution_count": 4,
      "outputs": []
    },
    {
      "cell_type": "markdown",
      "metadata": {
        "id": "uOQR8g84jN8H"
      },
      "source": [
        "## Cargar y visualizar datos"
      ]
    },
    {
      "cell_type": "code",
      "metadata": {
        "id": "c6FsvHvueqZK"
      },
      "source": [
        "data_inner = sio.loadmat('data/inner.mat')\n",
        "\n",
        "x = data_inner['x'].squeeze()   # .squeeze() remueve dimensiones de largo 1\n",
        "t = data_inner['t'].squeeze()\n",
        "\n",
        "print(f'x.shape: {x.shape}')\n",
        "print(f't.shape: {t.shape}')"
      ],
      "execution_count": null,
      "outputs": []
    },
    {
      "cell_type": "code",
      "metadata": {
        "id": "QaXFVlSnl4Gz"
      },
      "source": [
        "fig, axes = plt.subplots(figsize=(20, 3))\n",
        "axes.plot(t[:5000], x[:5000])\n",
        "axes.set(title='Señal temporal', xlabel='Tiempo [s]', ylabel='Aceleración [m/s$^2$]',\n",
        "         ylim=(-4, 4))\n",
        "plt.show()"
      ],
      "execution_count": null,
      "outputs": []
    },
    {
      "cell_type": "markdown",
      "metadata": {
        "id": "BhWDYN_2k7Yw"
      },
      "source": [
        "Obtener envolvente de la señal"
      ]
    },
    {
      "cell_type": "code",
      "metadata": {
        "id": "G4Gqw6lFmqJ0"
      },
      "source": [
        "env = np.abs(hilbert(x))"
      ],
      "execution_count": 7,
      "outputs": []
    },
    {
      "cell_type": "code",
      "metadata": {
        "id": "Uaq4FDajlBPe"
      },
      "source": [
        "fig, axes = plt.subplots(figsize=(20, 3))\n",
        "axes.plot(t[:5000], x[:5000])\n",
        "axes.plot(t[:5000], env[:5000])\n",
        "axes.set(title='Señal envolvente positiva', xlabel='Tiempo [s]', ylabel='Aceleración [m/s$^2$]',\n",
        "         ylim=(-4, 4))\n",
        "plt.show()"
      ],
      "execution_count": null,
      "outputs": []
    },
    {
      "cell_type": "markdown",
      "metadata": {
        "id": "Nyt3GICWssXn"
      },
      "source": [
        "## Transformada de Fourier"
      ]
    },
    {
      "cell_type": "code",
      "metadata": {
        "id": "ksA7Y0OdsvZw"
      },
      "source": [
        "L = len(x)\n",
        "dt = t[1] - t[0]\n",
        "\n",
        "Fx = fft(x).real[:int(L/2)] / (L/2)\n",
        "Fe = fft(env).real[:int(L/2)] / (L/2)\n",
        "frq = fftfreq(L, dt)[:int(L/2)]"
      ],
      "execution_count": 9,
      "outputs": []
    },
    {
      "cell_type": "code",
      "metadata": {
        "id": "3e28fs6Uuq68"
      },
      "source": [
        "fig, axs = plt.subplots(1, 2, sharey='all', figsize=(18, 4), constrained_layout=True)\n",
        "\n",
        "axs[0].plot(frq, np.abs(Fx))\n",
        "axs[0].set(title='Espectro de Fourier - Sin envolvente', xlabel='Frecuencia [Hz]', ylabel='Aceleración [m/s$^2$]',\n",
        "         xlim=(-10, 200), ylim=(-.01, .3))\n",
        "\n",
        "axs[1].plot(frq, np.abs(Fe))\n",
        "axs[1].set(title='Espectro de Fourier - Con envolvente', xlabel='Frecuencia [Hz]',\n",
        "         xlim=(-10, 200))\n",
        "\n",
        "# # Visualizar armónicos\n",
        "# hz = 30   # Frecuencia de giro\n",
        "# for axi in axs:\n",
        "#     for f in np.arange(hz, 500, hz):\n",
        "#             axi.axvline(f, c='firebrick', linestyle='--', zorder=-10, linewidth=1.5)\n",
        "\n",
        "plt.show()"
      ],
      "execution_count": null,
      "outputs": []
    }
  ]
}